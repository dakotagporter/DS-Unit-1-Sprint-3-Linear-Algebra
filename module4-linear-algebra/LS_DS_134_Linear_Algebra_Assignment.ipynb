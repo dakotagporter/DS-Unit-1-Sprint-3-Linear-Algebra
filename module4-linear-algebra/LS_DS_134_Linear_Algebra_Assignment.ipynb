{
  "nbformat": 4,
  "nbformat_minor": 0,
  "metadata": {
    "colab": {
      "name": "LS_DS_134_Linear_Algebra_Assignment.ipynb",
      "provenance": [],
      "collapsed_sections": []
    },
    "kernelspec": {
      "display_name": "Python 3",
      "language": "python",
      "name": "python3"
    },
    "language_info": {
      "codemirror_mode": {
        "name": "ipython",
        "version": 3
      },
      "file_extension": ".py",
      "mimetype": "text/x-python",
      "name": "python",
      "nbconvert_exporter": "python",
      "pygments_lexer": "ipython3",
      "version": "3.6.4"
    }
  },
  "cells": [
    {
      "cell_type": "markdown",
      "metadata": {
        "id": "iovQcSbqJl0_"
      },
      "source": [
        "## Objectives:\n",
        "- define a vector and calculate a vector length and dot product\n",
        "- define a matrix and calculate a matrix dot product, transpose, and inverse\n",
        "- explain cosine similarity and compute the similarity between two vectors\n",
        "- use linear algebra to solve for linear regression coefficients"
      ]
    },
    {
      "cell_type": "markdown",
      "metadata": {
        "id": "cFb8YfSCQJmx"
      },
      "source": [
        "#Use the following information to answer the assignment questions 1) - 11)."
      ]
    },
    {
      "cell_type": "markdown",
      "metadata": {
        "id": "MHWnltybtm8_"
      },
      "source": [
        "###Is head size related to brain weight in healthy adult humans?\n",
        "\n",
        "The Brainhead.csv dataset provides information on 237 individuals who were subject to post-mortem examination at the Middlesex Hospital in London around the turn of the 20th century. Study authors used cadavers to see if a relationship between brain weight and other more easily measured physiological characterizes such as age, sex, and head size could be determined. The end goal was to develop a way to estimate a person’s brain size while they were still alive (as the living aren’t keen on having their brains taken out and weighed). "
      ]
    },
    {
      "cell_type": "markdown",
      "metadata": {
        "id": "h5MRpr1HQHqp"
      },
      "source": [
        "**We wish to determine if we can improve on our model of the linear relationship between head size and brain weight in healthy human adults.**\n",
        "\n",
        "Source: R.J. Gladstone (1905). \"A Study of the Relations of the Brain to the Size of the Head\", Biometrika, Vol. 4, pp105-123."
      ]
    },
    {
      "cell_type": "code",
      "metadata": {
        "id": "0NKz1DvXQHqq",
        "outputId": "0bef2349-788c-4fcc-fc9c-e49ea5b4a74a",
        "colab": {
          "base_uri": "https://localhost:8080/",
          "height": 195
        }
      },
      "source": [
        "#Import the Brainhead.csv dataset from a URL and print the first few rows\n",
        "\n",
        "import pandas as pd\n",
        "import numpy as np\n",
        "\n",
        "\n",
        "data_url = 'https://raw.githubusercontent.com/LambdaSchool/data-science-practice-datasets/main/unit_1/Brainhead/Brainhead.csv'\n",
        "\n",
        "df = pd.read_csv(data_url, skipinitialspace=True, header=0)\n",
        "\n",
        "df.head()"
      ],
      "execution_count": 16,
      "outputs": [
        {
          "output_type": "execute_result",
          "data": {
            "text/html": [
              "<div>\n",
              "<style scoped>\n",
              "    .dataframe tbody tr th:only-of-type {\n",
              "        vertical-align: middle;\n",
              "    }\n",
              "\n",
              "    .dataframe tbody tr th {\n",
              "        vertical-align: top;\n",
              "    }\n",
              "\n",
              "    .dataframe thead th {\n",
              "        text-align: right;\n",
              "    }\n",
              "</style>\n",
              "<table border=\"1\" class=\"dataframe\">\n",
              "  <thead>\n",
              "    <tr style=\"text-align: right;\">\n",
              "      <th></th>\n",
              "      <th>Gender</th>\n",
              "      <th>Age</th>\n",
              "      <th>Head</th>\n",
              "      <th>Brain</th>\n",
              "    </tr>\n",
              "  </thead>\n",
              "  <tbody>\n",
              "    <tr>\n",
              "      <th>0</th>\n",
              "      <td>1</td>\n",
              "      <td>1</td>\n",
              "      <td>4512</td>\n",
              "      <td>1530</td>\n",
              "    </tr>\n",
              "    <tr>\n",
              "      <th>1</th>\n",
              "      <td>1</td>\n",
              "      <td>1</td>\n",
              "      <td>3738</td>\n",
              "      <td>1297</td>\n",
              "    </tr>\n",
              "    <tr>\n",
              "      <th>2</th>\n",
              "      <td>1</td>\n",
              "      <td>1</td>\n",
              "      <td>4261</td>\n",
              "      <td>1335</td>\n",
              "    </tr>\n",
              "    <tr>\n",
              "      <th>3</th>\n",
              "      <td>1</td>\n",
              "      <td>1</td>\n",
              "      <td>3777</td>\n",
              "      <td>1282</td>\n",
              "    </tr>\n",
              "    <tr>\n",
              "      <th>4</th>\n",
              "      <td>1</td>\n",
              "      <td>1</td>\n",
              "      <td>4177</td>\n",
              "      <td>1590</td>\n",
              "    </tr>\n",
              "  </tbody>\n",
              "</table>\n",
              "</div>"
            ],
            "text/plain": [
              "   Gender  Age  Head  Brain\n",
              "0       1    1  4512   1530\n",
              "1       1    1  3738   1297\n",
              "2       1    1  4261   1335\n",
              "3       1    1  3777   1282\n",
              "4       1    1  4177   1590"
            ]
          },
          "metadata": {
            "tags": []
          },
          "execution_count": 16
        }
      ]
    },
    {
      "cell_type": "markdown",
      "metadata": {
        "id": "UZ645l24as2R"
      },
      "source": [
        "1) Store the response variable - brain size - as a matrix called Y."
      ]
    },
    {
      "cell_type": "code",
      "metadata": {
        "id": "UVhixZZZQfUw"
      },
      "source": [
        "### YOUR CODE HERE ###\n",
        "Y = np.array(df['Brain']).reshape(-1, 1)"
      ],
      "execution_count": 17,
      "outputs": []
    },
    {
      "cell_type": "markdown",
      "metadata": {
        "id": "l_tU9rAlbhh4"
      },
      "source": [
        "2) Store the explanatory variable - head size size - as a matrix called X.  Don't forget to include the column of 1s for the intercept term."
      ]
    },
    {
      "cell_type": "code",
      "metadata": {
        "id": "_fGlhvmTbJdV"
      },
      "source": [
        "### YOUR CODE HERE ###\n",
        "ones = np.repeat(1, len(df['Head'])).reshape(-1, 1)\n",
        "Head = np.array(df['Head']).reshape(-1, 1)\n",
        "\n",
        "X = np.concatenate((ones, Head), axis=1)"
      ],
      "execution_count": 18,
      "outputs": []
    },
    {
      "cell_type": "markdown",
      "metadata": {
        "id": "CTtxhF82ceG7"
      },
      "source": [
        "3) Calculate $X^T$.  Explain what the transpose of a matrix is."
      ]
    },
    {
      "cell_type": "code",
      "metadata": {
        "id": "m_Dd1ZbU335I"
      },
      "source": [
        "### YOUR CODE HERE ###\n",
        "X_T = np.transpose(X)"
      ],
      "execution_count": 19,
      "outputs": []
    },
    {
      "cell_type": "markdown",
      "metadata": {
        "id": "6x8IEWIOc8qJ"
      },
      "source": [
        "Transpose of X are all the values flipped over the first, left diagonal."
      ]
    },
    {
      "cell_type": "markdown",
      "metadata": {
        "id": "GGng_b0CdJbV"
      },
      "source": [
        "4) Use matrix multplication to calculate $X^TX$"
      ]
    },
    {
      "cell_type": "code",
      "metadata": {
        "id": "_cOjfx-wcvca"
      },
      "source": [
        "### YOUR CODE HERE ###\n",
        "X_T_X = np.matmul(X_T, X)"
      ],
      "execution_count": 20,
      "outputs": []
    },
    {
      "cell_type": "markdown",
      "metadata": {
        "id": "xihZH2tIdWGc"
      },
      "source": [
        "5) Calculate $(X^TX)^{-1}$.  Explain what the inverse of a matrix is."
      ]
    },
    {
      "cell_type": "code",
      "metadata": {
        "id": "WxOrKY9F391Z"
      },
      "source": [
        "### YOUR CODE HERE ###\n",
        "X_T_X_inv = np.linalg.inv(X_T_X)"
      ],
      "execution_count": 21,
      "outputs": []
    },
    {
      "cell_type": "markdown",
      "metadata": {
        "id": "ZG14QgKzdnDF"
      },
      "source": [
        "The inverse of a matrix is like it's reciprocal."
      ]
    },
    {
      "cell_type": "markdown",
      "metadata": {
        "id": "Z3-aBWcJdwlS"
      },
      "source": [
        "6) Use matrix multiplication to calculate $X^TY$."
      ]
    },
    {
      "cell_type": "code",
      "metadata": {
        "id": "IzDRPF924FNk"
      },
      "source": [
        "### YOUR CODE HERE ###\n",
        "X_T_Y = np.matmul(X_T, Y)"
      ],
      "execution_count": 22,
      "outputs": []
    },
    {
      "cell_type": "markdown",
      "metadata": {
        "id": "uImjL8qgeDKS"
      },
      "source": [
        "7) Use your previous results to calculate the values of the slope and intercept using the formula $$ B = (X^{'}X)^{-1}X^{'}Y$$"
      ]
    },
    {
      "cell_type": "code",
      "metadata": {
        "id": "ataF2sSMagfm",
        "outputId": "96fa6c8f-ca62-4d85-83d6-84a16be4ced3",
        "colab": {
          "base_uri": "https://localhost:8080/",
          "height": 50
        }
      },
      "source": [
        "### YOUR CODE HERE ###\n",
        "B = np.matmul(X_T_X_inv, X_T_Y)\n",
        "B"
      ],
      "execution_count": 23,
      "outputs": [
        {
          "output_type": "execute_result",
          "data": {
            "text/plain": [
              "array([[3.25573421e+02],\n",
              "       [2.63429339e-01]])"
            ]
          },
          "metadata": {
            "tags": []
          },
          "execution_count": 23
        }
      ]
    },
    {
      "cell_type": "markdown",
      "metadata": {
        "id": "58tEkd1YibRJ"
      },
      "source": [
        "8) Use the OLS function to calculate the slope and intercept and compare your answers."
      ]
    },
    {
      "cell_type": "code",
      "metadata": {
        "id": "cAz2v2l27XQC",
        "outputId": "9757cfe8-4733-4e9c-dc6d-090a6a11bd67",
        "colab": {
          "base_uri": "https://localhost:8080/",
          "height": 67
        }
      },
      "source": [
        "### YOUR CODE HERE ###\n",
        "from statsmodels.formula.api import ols\n",
        "\n",
        "model = ols('Brain ~ Head', data=df).fit()\n",
        "model.params"
      ],
      "execution_count": 24,
      "outputs": [
        {
          "output_type": "execute_result",
          "data": {
            "text/plain": [
              "Intercept    325.573421\n",
              "Head           0.263429\n",
              "dtype: float64"
            ]
          },
          "metadata": {
            "tags": []
          },
          "execution_count": 24
        }
      ]
    },
    {
      "cell_type": "markdown",
      "metadata": {
        "id": "fldeKZQJiWJY"
      },
      "source": [
        "9) Create a new X matrix that includes coluns for both head size and age group."
      ]
    },
    {
      "cell_type": "code",
      "metadata": {
        "id": "p5k_g4HBkPvv"
      },
      "source": [
        "### YOUR CODE HERE ###\n",
        "Age = np.array(df['Age']).reshape(-1, 1)\n",
        "\n",
        "X = np.concatenate((ones, Head, Age), axis=1)"
      ],
      "execution_count": 25,
      "outputs": []
    },
    {
      "cell_type": "markdown",
      "metadata": {
        "id": "NaPLUX6P7eV6"
      },
      "source": [
        "11) Calculate the values of the intercept and slope terms for head size and age using the formula $$ B = (X^{'}X)^{-1}X^{'}Y$$"
      ]
    },
    {
      "cell_type": "code",
      "metadata": {
        "id": "wffPKuJVkrCB",
        "outputId": "b2aeb7a6-4d9a-4738-c8a5-2c032772b437",
        "colab": {
          "base_uri": "https://localhost:8080/",
          "height": 67
        }
      },
      "source": [
        "### YOUR CODE HERE ###\n",
        "X_T = np.transpose(X)\n",
        "X_T_X = np.matmul(X_T, X)\n",
        "X_T_X_inv = np.linalg.inv(X_T_X)\n",
        "X_T_Y = np.matmul(X_T, Y)\n",
        "B = np.matmul(X_T_X_inv, X_T_Y)\n",
        "B"
      ],
      "execution_count": 26,
      "outputs": [
        {
          "output_type": "execute_result",
          "data": {
            "text/plain": [
              "array([[ 3.68282145e+02],\n",
              "       [ 2.60438766e-01],\n",
              "       [-2.07316446e+01]])"
            ]
          },
          "metadata": {
            "tags": []
          },
          "execution_count": 26
        }
      ]
    },
    {
      "cell_type": "markdown",
      "metadata": {
        "id": "m92gsZo-8TcP"
      },
      "source": [
        "11) Use the OLS function to confirm your answer in 10)."
      ]
    },
    {
      "cell_type": "code",
      "metadata": {
        "id": "1k7mU2R-lGeL",
        "outputId": "25deed99-aa27-4cd4-bb24-823a572259c6",
        "colab": {
          "base_uri": "https://localhost:8080/",
          "height": 84
        }
      },
      "source": [
        "### YOUR CODE HERE ###\n",
        "model = ols('Brain ~ Head + Age', data=df).fit()\n",
        "model.params"
      ],
      "execution_count": 27,
      "outputs": [
        {
          "output_type": "execute_result",
          "data": {
            "text/plain": [
              "Intercept    368.282145\n",
              "Head           0.260439\n",
              "Age          -20.731645\n",
              "dtype: float64"
            ]
          },
          "metadata": {
            "tags": []
          },
          "execution_count": 27
        }
      ]
    },
    {
      "cell_type": "markdown",
      "metadata": {
        "id": "J10sSUChlzRH"
      },
      "source": [
        "#Use the following information to answer the assignment questions 12) - 16)."
      ]
    },
    {
      "cell_type": "markdown",
      "metadata": {
        "id": "9k2KIZbTl2kb"
      },
      "source": [
        "The song writing collaboration between John Lennon and Paul McCartney was one of the most productive in music history.  Unlike many other partnerships where one individual wrote lyrics and one wrote music, Lennon and McCartney composed both, and it was decided that any song that was written would be credited to both.  In the beginning of their relationship, many of their songs were truly collabroative.  However, later on, they often worked separately with little to no input from the other.    "
      ]
    },
    {
      "cell_type": "markdown",
      "metadata": {
        "id": "LsUaHKcEnhqc"
      },
      "source": [
        "Because of extensive reporting on the Beatles over the years, it is generally known if a Lennon-McCartney song was a true collabortion, primarily (or totally) writen by Lennon, or primarily (or totally) written by McCartney.  \n",
        "\n",
        "However, there are several disputed songs where both Lennon and McCartney at times claimed to be the sole (or primary) composer.\n",
        "\n",
        "We will now use cosine similarity to determine if *Ticket to Ride* (disputed) is most similar to *From Me to You* (collabortive, not disputed) or *Strawberry Fields* (Lennon, not disputed).\n",
        "\n",
        "From the Wikipedia article on the Lennon-McCartney Partnership: Lennon said that McCartney's contribution was limited to \"the way Ringo played the drums\".In Many Years from Now, McCartney said \"we sat down and wrote it together ... give him 60 percent of it.\""
      ]
    },
    {
      "cell_type": "markdown",
      "metadata": {
        "id": "MVipjsqR9o5y"
      },
      "source": [
        "12) Import the text of Strawberry Fields and calculate the freqency of song lyrics using the code below."
      ]
    },
    {
      "cell_type": "code",
      "metadata": {
        "id": "6SuKxo-lYsCR"
      },
      "source": [
        "### YOUR CODE HERE ###\n",
        "Strawberry_ = \"let me take you down cause Im going to Strawberry Fields nothing is real and nothing to get hung about Strawberry Fields forever living is easy with eyes closed misunderstanding all you see its getting hard to be someone but it all works out it doesnt matter much to me let me take you down cause Im going to Strawberry Fields nothing is real and nothing to get hung about Strawberry Fields forever no one I think is in my tree I mean it must be high or low that is you cant you know tune in but its all right that is I think its not too bad let me take you down cause Im going to Strawberry Fields nothing is real and nothing to get hung about Strawberry Fields forever always no sometimes think but you know I know when it's a dream I think er no I mean er yes but its all wrong that is I think I disagree let me take you down cause Im going to Strawberry Fields nothing is real and nothing to get hung about Strawberry Fields forever Strawberry Fields forever Strawberry Fields forever\"\n",
        "Strawberry_df = pd.DataFrame({'Words': Strawberry_.split()})\n",
        "Strawberry_df_freq = pd.DataFrame(pd.crosstab(index=Strawberry_df['Words'], columns='Count'))"
      ],
      "execution_count": 30,
      "outputs": []
    },
    {
      "cell_type": "markdown",
      "metadata": {
        "id": "K0z7cO3i_uQ_"
      },
      "source": [
        "13) Import the text of From Me to You and calculate the freqency of song lyrics using the code below."
      ]
    },
    {
      "cell_type": "code",
      "metadata": {
        "id": "jKcCwgydn0Rr"
      },
      "source": [
        "### YOUR CODE HERE ###\n",
        "Me_ = \"if there's anything that you want if there's anything I can do just call on me and Ill send it along with love from me to you Ive got everything that you want like a heart thats oh so true just call on me and Ill send it along with love from me to you Ive got arms that long to hold you and keep you by my side Ive got lips that long to kiss you and keep you satisfied oh if theres anything that you want if theres anything I can do just call on me and Ill send it along with love from me to you from me to you just call on me and Ill send it along with love from me to you Ive got arms that long to hold you and keep you by my side Ive got lips that long to kiss you and keep you satisfied oh if theres anything that you want if theres anything I can do just call on me and Ill send it along with love from me to you to you to you to you\"\n",
        "Me_df = pd.DataFrame({'Words': Me_.split()})\n",
        "Me_df_freq = pd.DataFrame(pd.crosstab(index=Me_df['Words'], columns='Count'))"
      ],
      "execution_count": null,
      "outputs": []
    },
    {
      "cell_type": "markdown",
      "metadata": {
        "id": "UNFG_UOT9y2Z"
      },
      "source": [
        "13) Import the text of Ticket to Ride using the code below."
      ]
    },
    {
      "cell_type": "code",
      "metadata": {
        "id": "Fh89MZnHAgcc"
      },
      "source": [
        "### YOUR CODE HERE ###\n",
        "Ride_ = \"I think Im gonna be sad I think its today yeah the girl thats driving me mad is going away shes got a ticket to ride shes got a ticket to ride shes got a ticket to ride but she dont care she said that living with me is bringing her down yeah for she would never be free when I was around shes got a ticket to ride shes got a ticket to ride shes got a ticket to ride but she dont care I dont know why shes ridin so high she ought to think twice she ought to do right by me before she gets to saying goodbye she ought to think twice she ought to do right by me I think Im gonna be sad I think its today yeah the girl thats driving me mad is going away yeah shes got a ticket to ride shes got a ticket to ride shes got a ticket to ride but she dont care I dont know why shes ridin so high she ought to think twice she ought to do right by me before she gets to saying goodbye she ought to think twice she ought to do right by me she said that living with me is bringing her down yeah for she would never be free when I was around ah shes got a ticket to ride shes got a ticket to ride shes got a ticket to ride but she dont care my baby dont care my baby dont care my baby dont care my baby dont care my baby dont care my baby dont care\"\n",
        "Ride_df = pd.DataFrame({'Words': Ride_.split()})\n",
        "Ride_df_freq = pd.DataFrame(pd.crosstab(index=Ride_df['Words'], columns='Count'))"
      ],
      "execution_count": 31,
      "outputs": []
    },
    {
      "cell_type": "code",
      "metadata": {
        "id": "UOjN-j4S8uBE"
      },
      "source": [
        "from numpy import dot\n",
        "from numpy.linalg import norm"
      ],
      "execution_count": 34,
      "outputs": []
    },
    {
      "cell_type": "markdown",
      "metadata": {
        "id": "c8ieic21sH4j"
      },
      "source": [
        "14) Concatenate Ticket to Ride and Strawberry Fields and calculate the cosine similarity."
      ]
    },
    {
      "cell_type": "code",
      "metadata": {
        "id": "5GYIQ3jf88MI",
        "outputId": "a1247d15-1c32-4bd5-e6db-753319cf33d0",
        "colab": {
          "base_uri": "https://localhost:8080/",
          "height": 34
        }
      },
      "source": [
        "### YOUR CODE HERE ###\n",
        "dfs1 = [Ride_df_freq, Strawberry_df_freq]\n",
        "\n",
        "all_words1 = pd.concat(dfs1, axis=1)\n",
        "all_words1 = all_words1.fillna(0)\n",
        "all_words1.columns = ['Ticket To Ride', 'Strawberry Fields']\n",
        "\n",
        "cos_sim = dot(all_words1['Ticket To Ride'], all_words1['Strawberry Fields']) / (norm(all_words1['Ticket To Ride'])*norm(all_words1['Strawberry Fields']))\n",
        "cos_sim"
      ],
      "execution_count": 35,
      "outputs": [
        {
          "output_type": "execute_result",
          "data": {
            "text/plain": [
              "0.324035859004908"
            ]
          },
          "metadata": {
            "tags": []
          },
          "execution_count": 35
        }
      ]
    },
    {
      "cell_type": "markdown",
      "metadata": {
        "id": "JCFn7l2XCefQ"
      },
      "source": [
        "15) Concatenate Ticket to Ride and From Me to You and calculate the cosine similarity."
      ]
    },
    {
      "cell_type": "code",
      "metadata": {
        "id": "uoj2UbIBCbJ5",
        "outputId": "713d960a-a478-4bda-a3a1-f8ce58bc5ca4",
        "colab": {
          "base_uri": "https://localhost:8080/",
          "height": 34
        }
      },
      "source": [
        "### YOUR CODE HERE ###\n",
        "dfs2 = [Ride_df_freq, Me_df_freq]\n",
        "\n",
        "all_words2 = pd.concat(dfs2, axis=1)\n",
        "all_words2 = all_words2.fillna(0)\n",
        "all_words2.columns = ['Ticket To Ride', 'From Me To You']\n",
        "\n",
        "cos_sim = dot(all_words2['Ticket To Ride'], all_words2['From Me To You']) / (norm(all_words2['Ticket To Ride'])*norm(all_words2['From Me To You']))\n",
        "cos_sim"
      ],
      "execution_count": 36,
      "outputs": [
        {
          "output_type": "execute_result",
          "data": {
            "text/plain": [
              "0.2882268853551227"
            ]
          },
          "metadata": {
            "tags": []
          },
          "execution_count": 36
        }
      ]
    },
    {
      "cell_type": "markdown",
      "metadata": {
        "id": "hJ-wIIvzuBaV"
      },
      "source": [
        "16) What is your conclusion about Ticket to Ride?  Does it appear most similar to Strawberry Fields (Lennon) or From Me to You (collaborative)?"
      ]
    },
    {
      "cell_type": "markdown",
      "metadata": {
        "id": "SoURb1HbDIhK"
      },
      "source": [
        "Ticket To Ride is more similar to Strawberry Fields. So this would lead us to believe that Lennon had more influence on Ticket To Ride becuase it's more similar to a song that HE wrote."
      ]
    }
  ]
}